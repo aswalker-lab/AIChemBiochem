{
 "cells": [
  {
   "cell_type": "markdown",
   "metadata": {},
   "source": [
    "## Functions\n",
    "You will often find yourself reusing the same code over and over again\n",
    "To avoid having to retype the code, you can create functions\n",
    "\n",
    "Note that python already has many built-in functions, as well as built-in and installable libraries which also offer many functions. So if you are doing something simple, there is a good chance a function already exists for it!\n",
    "This can save you code and if there are multiple ways to code the function, the already availble one is likely to be the most efficient way to do something. Therefore, there is no reason to reinvent the wheel, but writing your own functions even if they exist already can be good way to improve your general coding skills"
   ]
  },
  {
   "cell_type": "code",
   "execution_count": 1,
   "metadata": {},
   "outputs": [
    {
     "name": "stdout",
     "output_type": "stream",
     "text": [
      "[1, 3, 5]\n"
     ]
    }
   ],
   "source": [
    "# functions are defined with def, followed by eht ename of the function, arguments specified in parenthesis,with commmas separting\n",
    "#them and then a colon\n",
    "#it is good practice to put a comment which starts and ends with \"\"\" (another way to write comments)\n",
    "#at the first line of the function to explain what it does\n",
    "def find_odds(list_of_numbers):\n",
    "    \"\"\"Returns list of any odd numbers found in an input list\"\"\"\n",
    "    odds = []\n",
    "    for num in list_of_numbers:\n",
    "        if num%2!=0:\n",
    "            odds.append(num)\n",
    "    #return will end the function and return the value\n",
    "    #returns are not required\n",
    "    return odds\n",
    "\n",
    "list_of_numbers = [1,2,3,4,5]\n",
    "odds = find_odds(list_of_numbers)\n",
    "print(odds)"
   ]
  },
  {
   "cell_type": "markdown",
   "metadata": {},
   "source": [
    "## Objects\n",
    "Everyting in python is an object (for example the strings, ints, floats, lists, and dictionaries we dealt with last lesson). We can also define our own custom objects with classes."
   ]
  },
  {
   "cell_type": "code",
   "execution_count": null,
   "metadata": {},
   "outputs": [],
   "source": []
  }
 ],
 "metadata": {
  "kernelspec": {
   "display_name": "Python 3",
   "language": "python",
   "name": "python3"
  },
  "language_info": {
   "codemirror_mode": {
    "name": "ipython",
    "version": 3
   },
   "file_extension": ".py",
   "mimetype": "text/x-python",
   "name": "python",
   "nbconvert_exporter": "python",
   "pygments_lexer": "ipython3",
   "version": "3.8.3"
  }
 },
 "nbformat": 4,
 "nbformat_minor": 4
}
