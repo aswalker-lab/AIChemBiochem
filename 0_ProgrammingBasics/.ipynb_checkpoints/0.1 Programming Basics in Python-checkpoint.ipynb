{
 "cells": [
  {
   "cell_type": "markdown",
   "metadata": {},
   "source": [
    "## Variables and simple mathematical operations\n",
    "In programming,variables store data of various types such as integers, floats (used to represent numbers that are not integers), strings (text), booleans (true/false values), and other objects which you can create that have custom properties or that you can import from modules others have created\n",
    "\n",
    "Python is dynamically typed, which means that you can change a variable's type, e.g. you could first create a variable as a number and then later make it text. However, this is generally considered bad practice since it could lead to errors where you expect a variable to be one type and it turns out to be another.\n",
    "\n",
    "When dealing with integers (called int in python) or floats, you can use basic math operations as shown below.\n",
    "\n",
    "You can use the print statement to see the value of a variable. Try running the code below."
   ]
  },
  {
   "cell_type": "code",
   "execution_count": 14,
   "metadata": {},
   "outputs": [
    {
     "name": "stdout",
     "output_type": "stream",
     "text": [
      "3\n",
      "1 + 2 = 3\n",
      "1 - 2 = -1\n",
      "2 * 3 = 6\n",
      "2 / 6 = 0.3333333333333333\n",
      "type of a: <class 'int'>\n",
      "type of c: <class 'float'>\n",
      "2^3 = 8\n",
      "for a non-divisible number\n",
      "9 MOD 4 = 1\n",
      "MOD by divisible number will return zero \n",
      "8 MOD 4 = 0\n"
     ]
    }
   ],
   "source": [
    "#any lines that start with a '#' character is a comment, these lines will not run and are meant to provide information about the code\n",
    "# it is good practice to add comments to your code so others can understand what it does\n",
    "\n",
    "#addition\n",
    "a = 1\n",
    "b = 2\n",
    "c = a + b\n",
    "\n",
    "#to see the value of a + b, we can print c\n",
    "print(c)\n",
    "#if you want to write this operation as text, you can write a statement where you convert the numbers to strings, using str()\n",
    "#if you try this statment without converting your numbers to strings first, you will get an error since an int and a string can't\n",
    "#be added together\n",
    "print(str(a) + \" + \" + str(b) + \" = \" + str(c))\n",
    "\n",
    "#subtraction, note how we can overwrite the value of c\n",
    "c = a-b\n",
    "print(str(a) + \" - \" + str(b) + \" = \" + str(c))\n",
    "\n",
    "#multiplication\n",
    "a = 2\n",
    "b = 3\n",
    "c = a*b\n",
    "print(str(a) + \" * \" + str(b) + \" = \" + str(c))\n",
    "\n",
    "#division\n",
    "a = 2\n",
    "b = 6\n",
    "c = a/b #c will automatically be a float since a/b does not result in an integer value\n",
    "print(str(a) + \" / \" + str(b) + \" = \" + str(c))\n",
    "#we can check the current types of our variables using type()\n",
    "print(\"type of a: \" + str(type(a)))\n",
    "print(\"type of c: \" + str(type(c)))\n",
    "\n",
    "#exponents\n",
    "a = 2\n",
    "b = 3\n",
    "c = a**b\n",
    "print(str(a) +\"^\" + str(b) + \" = \" + str(c))\n",
    "\n",
    "#mod - this returns the remainder from division, which can come in handy sometimes\n",
    "a = 9\n",
    "b = 4\n",
    "c = a%b\n",
    "print(\"for a non-divisible number\")\n",
    "print(str(a) + \" MOD \" + str(b) + \" = \" +str(c))\n",
    "print(\"MOD by divisible number will return zero \")\n",
    "a = 8\n",
    "c = a%b\n",
    "print(str(a) + \" MOD \" + str(b) + \" = \" +str(c))\n",
    "\n",
    "#if you would like to get more familiar with this you can edit some of the variables and see what happens!"
   ]
  },
  {
   "cell_type": "markdown",
   "metadata": {},
   "source": [
    "## Strings\n",
    "\n",
    "In this cell we will go over some useful operations you can do with strings"
   ]
  },
  {
   "cell_type": "code",
   "execution_count": null,
   "metadata": {},
   "outputs": [],
   "source": []
  },
  {
   "cell_type": "markdown",
   "metadata": {},
   "source": [
    "## Data structures: lists and dictionary\n",
    "Data structures are ways to organize data, many are commonly shared accross different programming languages\n",
    "In python two of the most useful datastructures are lists and dictionaries"
   ]
  },
  {
   "cell_type": "code",
   "execution_count": null,
   "metadata": {},
   "outputs": [],
   "source": []
  },
  {
   "cell_type": "markdown",
   "metadata": {},
   "source": [
    "## If statements\n",
    "If statements allow us to evaluate if something is true so that our program can execute different code under different conditions.\n",
    "\n",
    "If statements can be single if statements and can also contain elif (else if) statements that will execute if a second specified condition is true (but earlier conditions were not true), and else statements that will execute if none of the previous evaluated statements were true.\n",
    "\n",
    "You can also nest if statements (have one if statement inside another), which is useful for branching logic. However you want to avoid too deep of a branching or your code will be difficult to read!\n",
    "\n",
    "Note that python uses indentations to indicate what is inside the if statement.\n",
    "Some other programming languages use other formats such as braces \"{\""
   ]
  },
  {
   "cell_type": "code",
   "execution_count": 23,
   "metadata": {},
   "outputs": [
    {
     "name": "stdout",
     "output_type": "stream",
     "text": [
      "b is greater or equal\n",
      "b is greater\n"
     ]
    }
   ],
   "source": [
    "#we can use if statements to compare if numbers are greater than each other\n",
    "a = 2\n",
    "b = 3\n",
    "c = 4\n",
    "#try changing these numbers and seeing how it effects the output\n",
    "\n",
    "#with if only\n",
    "if a > b:\n",
    "    print(\"a is greater\")\n",
    "#note if b is greater there won't be any code executed and there won't be any output\n",
    "\n",
    "#with if and else\n",
    "if a > b:\n",
    "    print(\"a is greater\")\n",
    "else:\n",
    "    print(\"b is greater or equal\")\n",
    "    \n",
    "#with if, elif, and else\n",
    "if a > b:\n",
    "    print(\"a is greater\")\n",
    "elif a == b: #you use a double equal sign to check if two things are equal\n",
    "    print(\"a and b are equal\")\n",
    "else:\n",
    "    print(\"b is greater\")\n",
    "#note you would use >= and <= for greater than or equal to or less than or equal to\n",
    "\n",
    "#Nested ifs:\n",
    "if a < b:\n",
    "    if a < c:\n",
    "        print(\"a is less than b and c\")\n",
    "    else:\n",
    "        print(\"a is less than b but not c\")\n",
    "elif a < c:\n",
    "    print(\"a is less than c but not b\")\n",
    "else:\n",
    "    print(\"a is not less than b or c\")\n",
    "\n",
    "#ifs with multiple statements, note we can accomplish the same logic as the nested ifs above\n",
    "if a < b and a < c:\n",
    "    print(\"a is less than b and c\")\n",
    "elif a < b:\n",
    "    print(\"a is less than b but not c\")\n",
    "elif a < c:\n",
    "    print(\"a is less than c but not b\")\n",
    "else:\n",
    "    print(\"a is not less than b or c\")\n",
    "    \n",
    "#not in addition to and you can also use or in if statements\n"
   ]
  },
  {
   "cell_type": "markdown",
   "metadata": {},
   "source": [
    "## Loops"
   ]
  },
  {
   "cell_type": "code",
   "execution_count": null,
   "metadata": {},
   "outputs": [],
   "source": []
  },
  {
   "cell_type": "markdown",
   "metadata": {},
   "source": [
    "## Modules\n",
    "You can import libraries to perform more advanced operations\n",
    "Python comes with standard built-in libraries, you can find a list here:https://docs.python.org/3/library/index.html\n",
    "<br>\n",
    "Below we will look at some examples using the math, statistics, and random modules\n",
    "There are also many modules you can install"
   ]
  },
  {
   "cell_type": "code",
   "execution_count": null,
   "metadata": {},
   "outputs": [],
   "source": [
    "#to import a module type import an then its name, if it is not a built in module you will have to install it to your environment\n",
    "#we will go over environments in a future lecture\n",
    "import math\n",
    "import statistics\n",
    "\n",
    "# if you want give your library a shorter name for when you refere to it in code later you can also import it as:\n",
    "import random as rnd"
   ]
  }
 ],
 "metadata": {
  "kernelspec": {
   "display_name": "Python 3",
   "language": "python",
   "name": "python3"
  },
  "language_info": {
   "codemirror_mode": {
    "name": "ipython",
    "version": 3
   },
   "file_extension": ".py",
   "mimetype": "text/x-python",
   "name": "python",
   "nbconvert_exporter": "python",
   "pygments_lexer": "ipython3",
   "version": "3.8.3"
  }
 },
 "nbformat": 4,
 "nbformat_minor": 4
}
