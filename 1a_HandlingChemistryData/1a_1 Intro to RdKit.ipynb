{
 "cells": [
  {
   "cell_type": "markdown",
   "metadata": {},
   "source": [
    "## Rdkit\n",
    "\n",
    "Rdkit is an open source toolkit for cheminformatics available as a python library. You can find more information on the rdkit website: https://www.rdkit.org/ \n",
    "You will need rdkit installed to the python environment you are using to run this notebook. See the github wiki or the rdkit website for installation instructions. There are more functionalities in rdkit that will be covered in this lesson, see rdkit website or linked resources in the wiki to learn more about rdkit functionality. Some rdkit functionality will also be covered in future lectures. This notebook is adapted from the rdkit book and cookbook: https://www.rdkit.org/docs/RDKit_Book.html and https://www.rdkit.org/docs/Cookbook.html"
   ]
  },
  {
   "cell_type": "markdown",
   "metadata": {},
   "source": [
    "## Importing necessary libraries\n",
    "We will need to import rdkit to run it"
   ]
  },
  {
   "cell_type": "code",
   "execution_count": 1,
   "metadata": {},
   "outputs": [],
   "source": [
    "from rdkit import Chem\n",
    "from rdkit.Chem.Draw import IPythonConsole\n",
    "from rdkit.Chem import Draw\n",
    "IPythonConsole.ipython_useSVG=True"
   ]
  },
  {
   "cell_type": "markdown",
   "metadata": {},
   "source": [
    "## SMILES and creating a molecule\n",
    "SMILES are text based representations of molecules that are frequently used in chemistry datasets. Rdkit can convert smiles to mol objects which can then be used for downstream analysis. If you want to learn more about SMILES, there are several good resources such as https://chemicbook.com/2021/02/13/smiles-strings-explained-for-beginners-part-1.html or https://www.daylight.com/dayhtml/doc/theory/theory.smiles.html but since we will be relying on rdkit to handle smiles, there is no need for you to memorize how smiles work. However if you ever encounter smiles strings that cause an error in rdkit, it can be useful to look up information about smiles to figure out what might be causing the issue. Note that databases such as Pubchem provide smiles strings for various molecules. ChemDraw can also convert between smiles strings and molecule structure and vice versa"
   ]
  },
  {
   "cell_type": "code",
   "execution_count": 2,
   "metadata": {},
   "outputs": [
    {
     "data": {
      "image/png": "[encoded data removed]",
      "image/svg+xml": [
       "<?xml version='1.0' encoding='iso-8859-1'?>\n",
       "<svg version='1.1' baseProfile='full'\n",
       "              xmlns='http://www.w3.org/2000/svg'\n",
       "                      xmlns:rdkit='http://www.rdkit.org/xml'\n",
       "                      xmlns:xlink='http://www.w3.org/1999/xlink'\n",
       "                  xml:space='preserve'\n",
       "width='450px' height='150px' viewBox='0 0 450 150'>\n",
       "<!-- END OF HEADER -->\n",
       "<rect style='opacity:1.0;fill:#FFFFFF;stroke:none' width='450.0' height='150.0' x='0.0' y='0.0'> </rect>\n",
       "<path class='bond-0 atom-0 atom-1' d='M 318.9,142.5 L 241.0,142.5' style='fill:none;fill-rule:evenodd;stroke:#000000;stroke-width:2.0px;stroke-linecap:butt;stroke-linejoin:miter;stroke-opacity:1' />\n",
       "<path class='bond-0 atom-0 atom-1' d='M 312.2,130.8 L 247.7,130.8' style='fill:none;fill-rule:evenodd;stroke:#000000;stroke-width:2.0px;stroke-linecap:butt;stroke-linejoin:miter;stroke-opacity:1' />\n",
       "<path class='bond-1 atom-1 atom-2' d='M 241.0,142.5 L 202.0,75.0' style='fill:none;fill-rule:evenodd;stroke:#000000;stroke-width:2.0px;stroke-linecap:butt;stroke-linejoin:miter;stroke-opacity:1' />\n",
       "<path class='bond-2 atom-2 atom-3' d='M 202.0,75.0 L 169.4,75.0' style='fill:none;fill-rule:evenodd;stroke:#000000;stroke-width:2.0px;stroke-linecap:butt;stroke-linejoin:miter;stroke-opacity:1' />\n",
       "<path class='bond-2 atom-2 atom-3' d='M 169.4,75.0 L 136.8,75.0' style='fill:none;fill-rule:evenodd;stroke:#FF0000;stroke-width:2.0px;stroke-linecap:butt;stroke-linejoin:miter;stroke-opacity:1' />\n",
       "<path class='bond-3 atom-2 atom-4' d='M 202.0,75.0 L 241.0,7.5' style='fill:none;fill-rule:evenodd;stroke:#000000;stroke-width:2.0px;stroke-linecap:butt;stroke-linejoin:miter;stroke-opacity:1' />\n",
       "<path class='bond-3 atom-2 atom-4' d='M 215.5,75.0 L 247.7,19.2' style='fill:none;fill-rule:evenodd;stroke:#000000;stroke-width:2.0px;stroke-linecap:butt;stroke-linejoin:miter;stroke-opacity:1' />\n",
       "<path class='bond-4 atom-4 atom-5' d='M 241.0,7.5 L 318.9,7.5' style='fill:none;fill-rule:evenodd;stroke:#000000;stroke-width:2.0px;stroke-linecap:butt;stroke-linejoin:miter;stroke-opacity:1' />\n",
       "<path class='bond-5 atom-5 atom-6' d='M 318.9,7.5 L 357.9,75.0' style='fill:none;fill-rule:evenodd;stroke:#000000;stroke-width:2.0px;stroke-linecap:butt;stroke-linejoin:miter;stroke-opacity:1' />\n",
       "<path class='bond-5 atom-5 atom-6' d='M 312.2,19.2 L 344.4,75.0' style='fill:none;fill-rule:evenodd;stroke:#000000;stroke-width:2.0px;stroke-linecap:butt;stroke-linejoin:miter;stroke-opacity:1' />\n",
       "<path class='bond-6 atom-6 atom-0' d='M 357.9,75.0 L 318.9,142.5' style='fill:none;fill-rule:evenodd;stroke:#000000;stroke-width:2.0px;stroke-linecap:butt;stroke-linejoin:miter;stroke-opacity:1' />\n",
       "<path d='M 315.0,142.5 L 318.9,142.5 L 320.9,139.1' style='fill:none;stroke:#000000;stroke-width:2.0px;stroke-linecap:butt;stroke-linejoin:miter;stroke-opacity:1;' />\n",
       "<path d='M 244.9,142.5 L 241.0,142.5 L 239.0,139.1' style='fill:none;stroke:#000000;stroke-width:2.0px;stroke-linecap:butt;stroke-linejoin:miter;stroke-opacity:1;' />\n",
       "<path d='M 239.0,10.9 L 241.0,7.5 L 244.9,7.5' style='fill:none;stroke:#000000;stroke-width:2.0px;stroke-linecap:butt;stroke-linejoin:miter;stroke-opacity:1;' />\n",
       "<path d='M 315.0,7.5 L 318.9,7.5 L 320.9,10.9' style='fill:none;stroke:#000000;stroke-width:2.0px;stroke-linecap:butt;stroke-linejoin:miter;stroke-opacity:1;' />\n",
       "<path d='M 355.9,71.6 L 357.9,75.0 L 355.9,78.4' style='fill:none;stroke:#000000;stroke-width:2.0px;stroke-linecap:butt;stroke-linejoin:miter;stroke-opacity:1;' />\n",
       "<path class='atom-3' d='M 92.1 64.1\n",
       "L 95.1 64.1\n",
       "L 95.1 73.5\n",
       "L 106.4 73.5\n",
       "L 106.4 64.1\n",
       "L 109.4 64.1\n",
       "L 109.4 86.2\n",
       "L 106.4 86.2\n",
       "L 106.4 76.0\n",
       "L 95.1 76.0\n",
       "L 95.1 86.2\n",
       "L 92.1 86.2\n",
       "L 92.1 64.1\n",
       "' fill='#FF0000'/>\n",
       "<path class='atom-3' d='M 113.9 75.1\n",
       "Q 113.9 69.8, 116.5 66.8\n",
       "Q 119.2 63.8, 124.1 63.8\n",
       "Q 128.9 63.8, 131.6 66.8\n",
       "Q 134.2 69.8, 134.2 75.1\n",
       "Q 134.2 80.4, 131.5 83.5\n",
       "Q 128.9 86.5, 124.1 86.5\n",
       "Q 119.2 86.5, 116.5 83.5\n",
       "Q 113.9 80.5, 113.9 75.1\n",
       "M 124.1 84.0\n",
       "Q 127.4 84.0, 129.2 81.8\n",
       "Q 131.1 79.5, 131.1 75.1\n",
       "Q 131.1 70.7, 129.2 68.5\n",
       "Q 127.4 66.3, 124.1 66.3\n",
       "Q 120.7 66.3, 118.8 68.5\n",
       "Q 117.0 70.7, 117.0 75.1\n",
       "Q 117.0 79.5, 118.8 81.8\n",
       "Q 120.7 84.0, 124.1 84.0\n",
       "' fill='#FF0000'/>\n",
       "</svg>\n"
      ],
      "text/html": [
       "<?xml version='1.0' encoding='iso-8859-1'?>\n",
       "<svg version='1.1' baseProfile='full'\n",
       "              xmlns='http://www.w3.org/2000/svg'\n",
       "                      xmlns:rdkit='http://www.rdkit.org/xml'\n",
       "                      xmlns:xlink='http://www.w3.org/1999/xlink'\n",
       "                  xml:space='preserve'\n",
       "width='450px' height='150px' viewBox='0 0 450 150'>\n",
       "<!-- END OF HEADER -->\n",
       "<rect style='opacity:1.0;fill:#FFFFFF;stroke:none' width='450.0' height='150.0' x='0.0' y='0.0'> </rect>\n",
       "<path class='bond-0 atom-0 atom-1' d='M 318.9,142.5 L 241.0,142.5' style='fill:none;fill-rule:evenodd;stroke:#000000;stroke-width:2.0px;stroke-linecap:butt;stroke-linejoin:miter;stroke-opacity:1' />\n",
       "<path class='bond-0 atom-0 atom-1' d='M 312.2,130.8 L 247.7,130.8' style='fill:none;fill-rule:evenodd;stroke:#000000;stroke-width:2.0px;stroke-linecap:butt;stroke-linejoin:miter;stroke-opacity:1' />\n",
       "<path class='bond-1 atom-1 atom-2' d='M 241.0,142.5 L 202.0,75.0' style='fill:none;fill-rule:evenodd;stroke:#000000;stroke-width:2.0px;stroke-linecap:butt;stroke-linejoin:miter;stroke-opacity:1' />\n",
       "<path class='bond-2 atom-2 atom-3' d='M 202.0,75.0 L 169.4,75.0' style='fill:none;fill-rule:evenodd;stroke:#000000;stroke-width:2.0px;stroke-linecap:butt;stroke-linejoin:miter;stroke-opacity:1' />\n",
       "<path class='bond-2 atom-2 atom-3' d='M 169.4,75.0 L 136.8,75.0' style='fill:none;fill-rule:evenodd;stroke:#FF0000;stroke-width:2.0px;stroke-linecap:butt;stroke-linejoin:miter;stroke-opacity:1' />\n",
       "<path class='bond-3 atom-2 atom-4' d='M 202.0,75.0 L 241.0,7.5' style='fill:none;fill-rule:evenodd;stroke:#000000;stroke-width:2.0px;stroke-linecap:butt;stroke-linejoin:miter;stroke-opacity:1' />\n",
       "<path class='bond-3 atom-2 atom-4' d='M 215.5,75.0 L 247.7,19.2' style='fill:none;fill-rule:evenodd;stroke:#000000;stroke-width:2.0px;stroke-linecap:butt;stroke-linejoin:miter;stroke-opacity:1' />\n",
       "<path class='bond-4 atom-4 atom-5' d='M 241.0,7.5 L 318.9,7.5' style='fill:none;fill-rule:evenodd;stroke:#000000;stroke-width:2.0px;stroke-linecap:butt;stroke-linejoin:miter;stroke-opacity:1' />\n",
       "<path class='bond-5 atom-5 atom-6' d='M 318.9,7.5 L 357.9,75.0' style='fill:none;fill-rule:evenodd;stroke:#000000;stroke-width:2.0px;stroke-linecap:butt;stroke-linejoin:miter;stroke-opacity:1' />\n",
       "<path class='bond-5 atom-5 atom-6' d='M 312.2,19.2 L 344.4,75.0' style='fill:none;fill-rule:evenodd;stroke:#000000;stroke-width:2.0px;stroke-linecap:butt;stroke-linejoin:miter;stroke-opacity:1' />\n",
       "<path class='bond-6 atom-6 atom-0' d='M 357.9,75.0 L 318.9,142.5' style='fill:none;fill-rule:evenodd;stroke:#000000;stroke-width:2.0px;stroke-linecap:butt;stroke-linejoin:miter;stroke-opacity:1' />\n",
       "<path d='M 315.0,142.5 L 318.9,142.5 L 320.9,139.1' style='fill:none;stroke:#000000;stroke-width:2.0px;stroke-linecap:butt;stroke-linejoin:miter;stroke-opacity:1;' />\n",
       "<path d='M 244.9,142.5 L 241.0,142.5 L 239.0,139.1' style='fill:none;stroke:#000000;stroke-width:2.0px;stroke-linecap:butt;stroke-linejoin:miter;stroke-opacity:1;' />\n",
       "<path d='M 239.0,10.9 L 241.0,7.5 L 244.9,7.5' style='fill:none;stroke:#000000;stroke-width:2.0px;stroke-linecap:butt;stroke-linejoin:miter;stroke-opacity:1;' />\n",
       "<path d='M 315.0,7.5 L 318.9,7.5 L 320.9,10.9' style='fill:none;stroke:#000000;stroke-width:2.0px;stroke-linecap:butt;stroke-linejoin:miter;stroke-opacity:1;' />\n",
       "<path d='M 355.9,71.6 L 357.9,75.0 L 355.9,78.4' style='fill:none;stroke:#000000;stroke-width:2.0px;stroke-linecap:butt;stroke-linejoin:miter;stroke-opacity:1;' />\n",
       "<path class='atom-3' d='M 92.1 64.1\n",
       "L 95.1 64.1\n",
       "L 95.1 73.5\n",
       "L 106.4 73.5\n",
       "L 106.4 64.1\n",
       "L 109.4 64.1\n",
       "L 109.4 86.2\n",
       "L 106.4 86.2\n",
       "L 106.4 76.0\n",
       "L 95.1 76.0\n",
       "L 95.1 86.2\n",
       "L 92.1 86.2\n",
       "L 92.1 64.1\n",
       "' fill='#FF0000'/>\n",
       "<path class='atom-3' d='M 113.9 75.1\n",
       "Q 113.9 69.8, 116.5 66.8\n",
       "Q 119.2 63.8, 124.1 63.8\n",
       "Q 128.9 63.8, 131.6 66.8\n",
       "Q 134.2 69.8, 134.2 75.1\n",
       "Q 134.2 80.4, 131.5 83.5\n",
       "Q 128.9 86.5, 124.1 86.5\n",
       "Q 119.2 86.5, 116.5 83.5\n",
       "Q 113.9 80.5, 113.9 75.1\n",
       "M 124.1 84.0\n",
       "Q 127.4 84.0, 129.2 81.8\n",
       "Q 131.1 79.5, 131.1 75.1\n",
       "Q 131.1 70.7, 129.2 68.5\n",
       "Q 127.4 66.3, 124.1 66.3\n",
       "Q 120.7 66.3, 118.8 68.5\n",
       "Q 117.0 70.7, 117.0 75.1\n",
       "Q 117.0 79.5, 118.8 81.8\n",
       "Q 120.7 84.0, 124.1 84.0\n",
       "' fill='#FF0000'/>\n",
       "</svg>\n"
      ],
      "text/plain": [
       "<rdkit.Chem.rdchem.Mol at 0x18573b306f0>"
      ]
     },
     "execution_count": 2,
     "metadata": {},
     "output_type": "execute_result"
    }
   ],
   "source": [
    "#create phenol molecule from string\n",
    "mol = Chem.MolFromSmiles(\"c1cc(O)ccc1\")\n",
    "#visualize molecule\n",
    "mol\n",
    "#Look up smiles or get smiles from ChemDraw of your favorite molecule!\n",
    "#note that rdkit will often struggle to draw more complex structures in a coherent way, use rdCoordGen in these cases (see rdkit docs)"
   ]
  },
  {
   "cell_type": "markdown",
   "metadata": {},
   "source": [
    "## Substructures\n",
    "Rdkit allows you to identify substructures and highlight them in molecules. Note that we create our substructure molecules with SMARTS rather than SMILES - SMARTS are like SMILES but for patterns, you can include wild card atoms in SMARTS\n",
    "For more details on SMARTS see: https://www.daylight.com/dayhtml/doc/theory/theory.smarts.html"
   ]
  },
  {
   "cell_type": "code",
   "execution_count": 3,
   "metadata": {},
   "outputs": [
    {
     "name": "stdout",
     "output_type": "stream",
     "text": [
      "carboxylic acid substructure match\n",
      "()\n",
      "phenyl substructure match\n",
      "((0, 1, 2, 4, 5, 6),)\n"
     ]
    },
    {
     "data": {
      "image/png": "[encoded data removed]",
      "image/svg+xml": [
       "<?xml version='1.0' encoding='iso-8859-1'?>\n",
       "<svg version='1.1' baseProfile='full'\n",
       "              xmlns='http://www.w3.org/2000/svg'\n",
       "                      xmlns:rdkit='http://www.rdkit.org/xml'\n",
       "                      xmlns:xlink='http://www.w3.org/1999/xlink'\n",
       "                  xml:space='preserve'\n",
       "width='450px' height='150px' viewBox='0 0 450 150'>\n",
       "<!-- END OF HEADER -->\n",
       "<rect style='opacity:1.0;fill:#FFFFFF;stroke:none' width='450.0' height='150.0' x='0.0' y='0.0'> </rect>\n",
       "<path class='bond-0 atom-0 atom-1' d='M 235.5,123.1 L 291.1,123.1 L 298.9,136.6 L 227.7,136.6 Z' style='fill:#FF7F7F;fill-rule:evenodd;fill-opacity:1;stroke:#FF7F7F;stroke-width:0.0px;stroke-linecap:butt;stroke-linejoin:miter;stroke-opacity:1;' />\n",
       "<path class='bond-6 atom-0 atom-6' d='M 318.8,75.0 L 334.4,75.0 L 298.9,136.6 L 291.1,123.1 Z' style='fill:#FF7F7F;fill-rule:evenodd;fill-opacity:1;stroke:#FF7F7F;stroke-width:0.0px;stroke-linecap:butt;stroke-linejoin:miter;stroke-opacity:1;' />\n",
       "<path class='bond-1 atom-1 atom-2' d='M 192.2,75.0 L 207.8,75.0 L 235.5,123.1 L 227.7,136.6 Z' style='fill:#FF7F7F;fill-rule:evenodd;fill-opacity:1;stroke:#FF7F7F;stroke-width:0.0px;stroke-linecap:butt;stroke-linejoin:miter;stroke-opacity:1;' />\n",
       "<path class='bond-3 atom-2 atom-4' d='M 227.7,13.4 L 235.5,26.9 L 207.8,75.0 L 192.2,75.0 Z' style='fill:#FF7F7F;fill-rule:evenodd;fill-opacity:1;stroke:#FF7F7F;stroke-width:0.0px;stroke-linecap:butt;stroke-linejoin:miter;stroke-opacity:1;' />\n",
       "<path class='bond-4 atom-4 atom-5' d='M 227.7,13.4 L 298.9,13.4 L 291.1,26.9 L 235.5,26.9 Z' style='fill:#FF7F7F;fill-rule:evenodd;fill-opacity:1;stroke:#FF7F7F;stroke-width:0.0px;stroke-linecap:butt;stroke-linejoin:miter;stroke-opacity:1;' />\n",
       "<path class='bond-5 atom-5 atom-6' d='M 298.9,13.4 L 334.4,75.0 L 318.8,75.0 L 291.1,26.9 Z' style='fill:#FF7F7F;fill-rule:evenodd;fill-opacity:1;stroke:#FF7F7F;stroke-width:0.0px;stroke-linecap:butt;stroke-linejoin:miter;stroke-opacity:1;' />\n",
       "<ellipse cx='295.0' cy='129.8' rx='12.7' ry='12.7' class='atom-0'  style='fill:#FF7F7F;fill-rule:evenodd;stroke:#FF7F7F;stroke-width:1.0px;stroke-linecap:butt;stroke-linejoin:miter;stroke-opacity:1' />\n",
       "<ellipse cx='231.6' cy='129.8' rx='12.7' ry='12.7' class='atom-1'  style='fill:#FF7F7F;fill-rule:evenodd;stroke:#FF7F7F;stroke-width:1.0px;stroke-linecap:butt;stroke-linejoin:miter;stroke-opacity:1' />\n",
       "<ellipse cx='200.0' cy='75.0' rx='12.7' ry='12.7' class='atom-2'  style='fill:#FF7F7F;fill-rule:evenodd;stroke:#FF7F7F;stroke-width:1.0px;stroke-linecap:butt;stroke-linejoin:miter;stroke-opacity:1' />\n",
       "<ellipse cx='231.6' cy='20.2' rx='12.7' ry='12.7' class='atom-4'  style='fill:#FF7F7F;fill-rule:evenodd;stroke:#FF7F7F;stroke-width:1.0px;stroke-linecap:butt;stroke-linejoin:miter;stroke-opacity:1' />\n",
       "<ellipse cx='295.0' cy='20.2' rx='12.7' ry='12.7' class='atom-5'  style='fill:#FF7F7F;fill-rule:evenodd;stroke:#FF7F7F;stroke-width:1.0px;stroke-linecap:butt;stroke-linejoin:miter;stroke-opacity:1' />\n",
       "<ellipse cx='326.6' cy='75.0' rx='12.7' ry='12.7' class='atom-6'  style='fill:#FF7F7F;fill-rule:evenodd;stroke:#FF7F7F;stroke-width:1.0px;stroke-linecap:butt;stroke-linejoin:miter;stroke-opacity:1' />\n",
       "<path class='bond-0 atom-0 atom-1' d='M 295.0,129.8 L 231.6,129.8' style='fill:none;fill-rule:evenodd;stroke:#000000;stroke-width:2.0px;stroke-linecap:butt;stroke-linejoin:miter;stroke-opacity:1' />\n",
       "<path class='bond-0 atom-0 atom-1' d='M 289.5,120.3 L 237.1,120.3' style='fill:none;fill-rule:evenodd;stroke:#000000;stroke-width:2.0px;stroke-linecap:butt;stroke-linejoin:miter;stroke-opacity:1' />\n",
       "<path class='bond-1 atom-1 atom-2' d='M 231.6,129.8 L 200.0,75.0' style='fill:none;fill-rule:evenodd;stroke:#000000;stroke-width:2.0px;stroke-linecap:butt;stroke-linejoin:miter;stroke-opacity:1' />\n",
       "<path class='bond-2 atom-2 atom-3' d='M 200.0,75.0 L 173.5,75.0' style='fill:none;fill-rule:evenodd;stroke:#000000;stroke-width:2.0px;stroke-linecap:butt;stroke-linejoin:miter;stroke-opacity:1' />\n",
       "<path class='bond-2 atom-2 atom-3' d='M 173.5,75.0 L 147.0,75.0' style='fill:none;fill-rule:evenodd;stroke:#FF0000;stroke-width:2.0px;stroke-linecap:butt;stroke-linejoin:miter;stroke-opacity:1' />\n",
       "<path class='bond-3 atom-2 atom-4' d='M 200.0,75.0 L 231.6,20.2' style='fill:none;fill-rule:evenodd;stroke:#000000;stroke-width:2.0px;stroke-linecap:butt;stroke-linejoin:miter;stroke-opacity:1' />\n",
       "<path class='bond-3 atom-2 atom-4' d='M 210.9,75.0 L 237.1,29.7' style='fill:none;fill-rule:evenodd;stroke:#000000;stroke-width:2.0px;stroke-linecap:butt;stroke-linejoin:miter;stroke-opacity:1' />\n",
       "<path class='bond-4 atom-4 atom-5' d='M 231.6,20.2 L 295.0,20.2' style='fill:none;fill-rule:evenodd;stroke:#000000;stroke-width:2.0px;stroke-linecap:butt;stroke-linejoin:miter;stroke-opacity:1' />\n",
       "<path class='bond-5 atom-5 atom-6' d='M 295.0,20.2 L 326.6,75.0' style='fill:none;fill-rule:evenodd;stroke:#000000;stroke-width:2.0px;stroke-linecap:butt;stroke-linejoin:miter;stroke-opacity:1' />\n",
       "<path class='bond-5 atom-5 atom-6' d='M 289.5,29.7 L 315.7,75.0' style='fill:none;fill-rule:evenodd;stroke:#000000;stroke-width:2.0px;stroke-linecap:butt;stroke-linejoin:miter;stroke-opacity:1' />\n",
       "<path class='bond-6 atom-6 atom-0' d='M 326.6,75.0 L 295.0,129.8' style='fill:none;fill-rule:evenodd;stroke:#000000;stroke-width:2.0px;stroke-linecap:butt;stroke-linejoin:miter;stroke-opacity:1' />\n",
       "<path d='M 291.8,129.8 L 295.0,129.8 L 296.5,127.1' style='fill:none;stroke:#000000;stroke-width:2.0px;stroke-linecap:butt;stroke-linejoin:miter;stroke-opacity:1;' />\n",
       "<path d='M 234.8,129.8 L 231.6,129.8 L 230.1,127.1' style='fill:none;stroke:#000000;stroke-width:2.0px;stroke-linecap:butt;stroke-linejoin:miter;stroke-opacity:1;' />\n",
       "<path d='M 230.1,22.9 L 231.6,20.2 L 234.8,20.2' style='fill:none;stroke:#000000;stroke-width:2.0px;stroke-linecap:butt;stroke-linejoin:miter;stroke-opacity:1;' />\n",
       "<path d='M 291.8,20.2 L 295.0,20.2 L 296.5,22.9' style='fill:none;stroke:#000000;stroke-width:2.0px;stroke-linecap:butt;stroke-linejoin:miter;stroke-opacity:1;' />\n",
       "<path d='M 325.0,72.3 L 326.6,75.0 L 325.0,77.7' style='fill:none;stroke:#000000;stroke-width:2.0px;stroke-linecap:butt;stroke-linejoin:miter;stroke-opacity:1;' />\n",
       "<path class='atom-3' d='M 110.7 66.1\n",
       "L 113.2 66.1\n",
       "L 113.2 73.8\n",
       "L 122.3 73.8\n",
       "L 122.3 66.1\n",
       "L 124.8 66.1\n",
       "L 124.8 84.1\n",
       "L 122.3 84.1\n",
       "L 122.3 75.8\n",
       "L 113.2 75.8\n",
       "L 113.2 84.1\n",
       "L 110.7 84.1\n",
       "L 110.7 66.1\n",
       "' fill='#FF0000'/>\n",
       "<path class='atom-3' d='M 128.4 75.1\n",
       "Q 128.4 70.7, 130.6 68.3\n",
       "Q 132.7 65.9, 136.7 65.9\n",
       "Q 140.6 65.9, 142.8 68.3\n",
       "Q 144.9 70.7, 144.9 75.1\n",
       "Q 144.9 79.4, 142.7 81.9\n",
       "Q 140.6 84.3, 136.7 84.3\n",
       "Q 132.7 84.3, 130.6 81.9\n",
       "Q 128.4 79.4, 128.4 75.1\n",
       "M 136.7 82.3\n",
       "Q 139.4 82.3, 140.9 80.5\n",
       "Q 142.4 78.6, 142.4 75.1\n",
       "Q 142.4 71.5, 140.9 69.8\n",
       "Q 139.4 68.0, 136.7 68.0\n",
       "Q 133.9 68.0, 132.4 69.7\n",
       "Q 131.0 71.5, 131.0 75.1\n",
       "Q 131.0 78.7, 132.4 80.5\n",
       "Q 133.9 82.3, 136.7 82.3\n",
       "' fill='#FF0000'/>\n",
       "</svg>\n"
      ],
      "text/html": [
       "<?xml version='1.0' encoding='iso-8859-1'?>\n",
       "<svg version='1.1' baseProfile='full'\n",
       "              xmlns='http://www.w3.org/2000/svg'\n",
       "                      xmlns:rdkit='http://www.rdkit.org/xml'\n",
       "                      xmlns:xlink='http://www.w3.org/1999/xlink'\n",
       "                  xml:space='preserve'\n",
       "width='450px' height='150px' viewBox='0 0 450 150'>\n",
       "<!-- END OF HEADER -->\n",
       "<rect style='opacity:1.0;fill:#FFFFFF;stroke:none' width='450.0' height='150.0' x='0.0' y='0.0'> </rect>\n",
       "<path class='bond-0 atom-0 atom-1' d='M 235.5,123.1 L 291.1,123.1 L 298.9,136.6 L 227.7,136.6 Z' style='fill:#FF7F7F;fill-rule:evenodd;fill-opacity:1;stroke:#FF7F7F;stroke-width:0.0px;stroke-linecap:butt;stroke-linejoin:miter;stroke-opacity:1;' />\n",
       "<path class='bond-6 atom-0 atom-6' d='M 318.8,75.0 L 334.4,75.0 L 298.9,136.6 L 291.1,123.1 Z' style='fill:#FF7F7F;fill-rule:evenodd;fill-opacity:1;stroke:#FF7F7F;stroke-width:0.0px;stroke-linecap:butt;stroke-linejoin:miter;stroke-opacity:1;' />\n",
       "<path class='bond-1 atom-1 atom-2' d='M 192.2,75.0 L 207.8,75.0 L 235.5,123.1 L 227.7,136.6 Z' style='fill:#FF7F7F;fill-rule:evenodd;fill-opacity:1;stroke:#FF7F7F;stroke-width:0.0px;stroke-linecap:butt;stroke-linejoin:miter;stroke-opacity:1;' />\n",
       "<path class='bond-3 atom-2 atom-4' d='M 227.7,13.4 L 235.5,26.9 L 207.8,75.0 L 192.2,75.0 Z' style='fill:#FF7F7F;fill-rule:evenodd;fill-opacity:1;stroke:#FF7F7F;stroke-width:0.0px;stroke-linecap:butt;stroke-linejoin:miter;stroke-opacity:1;' />\n",
       "<path class='bond-4 atom-4 atom-5' d='M 227.7,13.4 L 298.9,13.4 L 291.1,26.9 L 235.5,26.9 Z' style='fill:#FF7F7F;fill-rule:evenodd;fill-opacity:1;stroke:#FF7F7F;stroke-width:0.0px;stroke-linecap:butt;stroke-linejoin:miter;stroke-opacity:1;' />\n",
       "<path class='bond-5 atom-5 atom-6' d='M 298.9,13.4 L 334.4,75.0 L 318.8,75.0 L 291.1,26.9 Z' style='fill:#FF7F7F;fill-rule:evenodd;fill-opacity:1;stroke:#FF7F7F;stroke-width:0.0px;stroke-linecap:butt;stroke-linejoin:miter;stroke-opacity:1;' />\n",
       "<ellipse cx='295.0' cy='129.8' rx='12.7' ry='12.7' class='atom-0'  style='fill:#FF7F7F;fill-rule:evenodd;stroke:#FF7F7F;stroke-width:1.0px;stroke-linecap:butt;stroke-linejoin:miter;stroke-opacity:1' />\n",
       "<ellipse cx='231.6' cy='129.8' rx='12.7' ry='12.7' class='atom-1'  style='fill:#FF7F7F;fill-rule:evenodd;stroke:#FF7F7F;stroke-width:1.0px;stroke-linecap:butt;stroke-linejoin:miter;stroke-opacity:1' />\n",
       "<ellipse cx='200.0' cy='75.0' rx='12.7' ry='12.7' class='atom-2'  style='fill:#FF7F7F;fill-rule:evenodd;stroke:#FF7F7F;stroke-width:1.0px;stroke-linecap:butt;stroke-linejoin:miter;stroke-opacity:1' />\n",
       "<ellipse cx='231.6' cy='20.2' rx='12.7' ry='12.7' class='atom-4'  style='fill:#FF7F7F;fill-rule:evenodd;stroke:#FF7F7F;stroke-width:1.0px;stroke-linecap:butt;stroke-linejoin:miter;stroke-opacity:1' />\n",
       "<ellipse cx='295.0' cy='20.2' rx='12.7' ry='12.7' class='atom-5'  style='fill:#FF7F7F;fill-rule:evenodd;stroke:#FF7F7F;stroke-width:1.0px;stroke-linecap:butt;stroke-linejoin:miter;stroke-opacity:1' />\n",
       "<ellipse cx='326.6' cy='75.0' rx='12.7' ry='12.7' class='atom-6'  style='fill:#FF7F7F;fill-rule:evenodd;stroke:#FF7F7F;stroke-width:1.0px;stroke-linecap:butt;stroke-linejoin:miter;stroke-opacity:1' />\n",
       "<path class='bond-0 atom-0 atom-1' d='M 295.0,129.8 L 231.6,129.8' style='fill:none;fill-rule:evenodd;stroke:#000000;stroke-width:2.0px;stroke-linecap:butt;stroke-linejoin:miter;stroke-opacity:1' />\n",
       "<path class='bond-0 atom-0 atom-1' d='M 289.5,120.3 L 237.1,120.3' style='fill:none;fill-rule:evenodd;stroke:#000000;stroke-width:2.0px;stroke-linecap:butt;stroke-linejoin:miter;stroke-opacity:1' />\n",
       "<path class='bond-1 atom-1 atom-2' d='M 231.6,129.8 L 200.0,75.0' style='fill:none;fill-rule:evenodd;stroke:#000000;stroke-width:2.0px;stroke-linecap:butt;stroke-linejoin:miter;stroke-opacity:1' />\n",
       "<path class='bond-2 atom-2 atom-3' d='M 200.0,75.0 L 173.5,75.0' style='fill:none;fill-rule:evenodd;stroke:#000000;stroke-width:2.0px;stroke-linecap:butt;stroke-linejoin:miter;stroke-opacity:1' />\n",
       "<path class='bond-2 atom-2 atom-3' d='M 173.5,75.0 L 147.0,75.0' style='fill:none;fill-rule:evenodd;stroke:#FF0000;stroke-width:2.0px;stroke-linecap:butt;stroke-linejoin:miter;stroke-opacity:1' />\n",
       "<path class='bond-3 atom-2 atom-4' d='M 200.0,75.0 L 231.6,20.2' style='fill:none;fill-rule:evenodd;stroke:#000000;stroke-width:2.0px;stroke-linecap:butt;stroke-linejoin:miter;stroke-opacity:1' />\n",
       "<path class='bond-3 atom-2 atom-4' d='M 210.9,75.0 L 237.1,29.7' style='fill:none;fill-rule:evenodd;stroke:#000000;stroke-width:2.0px;stroke-linecap:butt;stroke-linejoin:miter;stroke-opacity:1' />\n",
       "<path class='bond-4 atom-4 atom-5' d='M 231.6,20.2 L 295.0,20.2' style='fill:none;fill-rule:evenodd;stroke:#000000;stroke-width:2.0px;stroke-linecap:butt;stroke-linejoin:miter;stroke-opacity:1' />\n",
       "<path class='bond-5 atom-5 atom-6' d='M 295.0,20.2 L 326.6,75.0' style='fill:none;fill-rule:evenodd;stroke:#000000;stroke-width:2.0px;stroke-linecap:butt;stroke-linejoin:miter;stroke-opacity:1' />\n",
       "<path class='bond-5 atom-5 atom-6' d='M 289.5,29.7 L 315.7,75.0' style='fill:none;fill-rule:evenodd;stroke:#000000;stroke-width:2.0px;stroke-linecap:butt;stroke-linejoin:miter;stroke-opacity:1' />\n",
       "<path class='bond-6 atom-6 atom-0' d='M 326.6,75.0 L 295.0,129.8' style='fill:none;fill-rule:evenodd;stroke:#000000;stroke-width:2.0px;stroke-linecap:butt;stroke-linejoin:miter;stroke-opacity:1' />\n",
       "<path d='M 291.8,129.8 L 295.0,129.8 L 296.5,127.1' style='fill:none;stroke:#000000;stroke-width:2.0px;stroke-linecap:butt;stroke-linejoin:miter;stroke-opacity:1;' />\n",
       "<path d='M 234.8,129.8 L 231.6,129.8 L 230.1,127.1' style='fill:none;stroke:#000000;stroke-width:2.0px;stroke-linecap:butt;stroke-linejoin:miter;stroke-opacity:1;' />\n",
       "<path d='M 230.1,22.9 L 231.6,20.2 L 234.8,20.2' style='fill:none;stroke:#000000;stroke-width:2.0px;stroke-linecap:butt;stroke-linejoin:miter;stroke-opacity:1;' />\n",
       "<path d='M 291.8,20.2 L 295.0,20.2 L 296.5,22.9' style='fill:none;stroke:#000000;stroke-width:2.0px;stroke-linecap:butt;stroke-linejoin:miter;stroke-opacity:1;' />\n",
       "<path d='M 325.0,72.3 L 326.6,75.0 L 325.0,77.7' style='fill:none;stroke:#000000;stroke-width:2.0px;stroke-linecap:butt;stroke-linejoin:miter;stroke-opacity:1;' />\n",
       "<path class='atom-3' d='M 110.7 66.1\n",
       "L 113.2 66.1\n",
       "L 113.2 73.8\n",
       "L 122.3 73.8\n",
       "L 122.3 66.1\n",
       "L 124.8 66.1\n",
       "L 124.8 84.1\n",
       "L 122.3 84.1\n",
       "L 122.3 75.8\n",
       "L 113.2 75.8\n",
       "L 113.2 84.1\n",
       "L 110.7 84.1\n",
       "L 110.7 66.1\n",
       "' fill='#FF0000'/>\n",
       "<path class='atom-3' d='M 128.4 75.1\n",
       "Q 128.4 70.7, 130.6 68.3\n",
       "Q 132.7 65.9, 136.7 65.9\n",
       "Q 140.6 65.9, 142.8 68.3\n",
       "Q 144.9 70.7, 144.9 75.1\n",
       "Q 144.9 79.4, 142.7 81.9\n",
       "Q 140.6 84.3, 136.7 84.3\n",
       "Q 132.7 84.3, 130.6 81.9\n",
       "Q 128.4 79.4, 128.4 75.1\n",
       "M 136.7 82.3\n",
       "Q 139.4 82.3, 140.9 80.5\n",
       "Q 142.4 78.6, 142.4 75.1\n",
       "Q 142.4 71.5, 140.9 69.8\n",
       "Q 139.4 68.0, 136.7 68.0\n",
       "Q 133.9 68.0, 132.4 69.7\n",
       "Q 131.0 71.5, 131.0 75.1\n",
       "Q 131.0 78.7, 132.4 80.5\n",
       "Q 133.9 82.3, 136.7 82.3\n",
       "' fill='#FF0000'/>\n",
       "</svg>\n"
      ],
      "text/plain": [
       "<rdkit.Chem.rdchem.Mol at 0x18573b306f0>"
      ]
     },
     "execution_count": 3,
     "metadata": {},
     "output_type": "execute_result"
    }
   ],
   "source": [
    "carboxacid_substructure = Chem.MolFromSmarts('C(=O)O')\n",
    "phenyl_substructure = Chem.MolFromSmarts('c1ccccc1')\n",
    "\n",
    "#the follwoing will print out numbering of atoms that match the substructure. \n",
    "#Try experimenting with the molecule and substructure objects to see what substrctures are found\n",
    "print(\"carboxylic acid substructure match\")\n",
    "print(mol.GetSubstructMatches(carboxacid_substructure))\n",
    "print(\"phenyl substructure match\")\n",
    "print(mol.GetSubstructMatches(phenyl_substructure))\n",
    "\n",
    "#displaying the molecule object afeter doing a substructure search will highlight atoms in the substructure\n",
    "mol"
   ]
  },
  {
   "cell_type": "markdown",
   "metadata": {},
   "source": [
    "## Getting atom properties\n",
    "Rdkit allows you to iterate through atoms in a molecule and get various properties, here are some properites that are available, there these are not exhaustive"
   ]
  },
  {
   "cell_type": "code",
   "execution_count": 4,
   "metadata": {},
   "outputs": [
    {
     "name": "stdout",
     "output_type": "stream",
     "text": [
      "atom index, atomic number, symbiol, hybridization, mass, aromaticity\n",
      "0 6 C SP2 12.011 True\n",
      "1 6 C SP2 12.011 True\n",
      "2 6 C SP2 12.011 True\n",
      "3 8 O SP2 15.999 False\n",
      "4 6 C SP2 12.011 True\n",
      "5 6 C SP2 12.011 True\n",
      "6 6 C SP2 12.011 True\n"
     ]
    }
   ],
   "source": [
    "print(\"atom index, atomic number, symbiol, hybridization, mass, aromaticity\")\n",
    "#for loop to iterate through atoms\n",
    "for x in mol.GetAtoms():\n",
    "    print(x.GetIdx(), x.GetAtomicNum(), x.GetSymbol(), x.GetHybridization(), x.GetMass(),x.GetIsAromatic())"
   ]
  },
  {
   "cell_type": "markdown",
   "metadata": {},
   "source": [
    "## Getting molecule properties\n",
    "Rdkit can also calculate some properties of the overall molecule, these are also referred to as descriptors"
   ]
  },
  {
   "cell_type": "code",
   "execution_count": 5,
   "metadata": {},
   "outputs": [
    {
     "name": "stdout",
     "output_type": "stream",
     "text": [
      "LogP - prediction of octanol/water partition\n",
      "1.3921999999999999\n",
      "Molecular Weight\n",
      "94.11299999999997\n",
      "H bond acceptors\n",
      "1\n",
      "H bond donors\n",
      "1\n",
      "Num aromatic rings\n",
      "1\n",
      "Topological polar surface area\n",
      "20.23\n"
     ]
    }
   ],
   "source": [
    "from rdkit.Chem import Descriptors\n",
    "#here are some useful descriptors, try changing the molecule and checking the output of these descriptors\n",
    "print(\"LogP - prediction of octanol/water partition\")\n",
    "print(Descriptors.MolLogP(mol))\n",
    "print(\"Molecular Weight\")\n",
    "print(Descriptors.MolWt(mol))\n",
    "print(\"H bond acceptors\")\n",
    "print(Descriptors.NumHAcceptors(mol))\n",
    "print(\"H bond donors\")\n",
    "print(Descriptors.NumHDonors(mol))\n",
    "print(\"Num aromatic rings\")\n",
    "print(Descriptors.NumAromaticRings(mol))\n",
    "print(\"Topological polar surface area\")\n",
    "print(Descriptors.TPSA(mol))"
   ]
  },
  {
   "cell_type": "markdown",
   "metadata": {},
   "source": [
    "## Fingerprints and Tanimoto similarity\n",
    "Fingerprints are bit vectors that represent the molecule - the molecule is broken into small substructures using a defined algorithm and then these substructures are run through a hashing function - which will convert them to a number. If a molecule contains a certain substructure there will be a 1 for the position corresponding to the hash and 0 if not. Note that sometimes two or more substructures may give the same hash (even if they are dissimilar substructures), in that case ther will be a 1 if the molecule contains any of the substructures corresponding to that hash, however this should only rarely occur.\n",
    "\n",
    "There are different types of fingerprints that can lead to different results. Some might be better for different applications. Some common ones include the Daylight Fingerprints (https://www.daylight.com/dayhtml/doc/theory/theory.finger.html) and Morgan Fingerprints and related Extended-connectivity fingerprints (ECFPs) (https://pubs.acs.org/doi/abs/10.1021/ci100050t). RDkit also has it's own fingerprint which is more similar to Daylight. Note that Rdkit has it's own implementation of these fingerprints that might differ slightly from other software that can calculate fingerprints.\n",
    "\n",
    "Fingerprints can then be used to compare similarity of compounds, a common way to do that is the Tanimoto similarity: https://jcheminf.biomedcentral.com/articles/10.1186/s13321-015-0069-3\n",
    "Tanimoto similarity ranges from 0 to 1, with 1 being more similar."
   ]
  },
  {
   "cell_type": "code",
   "execution_count": 6,
   "metadata": {},
   "outputs": [
    {
     "name": "stdout",
     "output_type": "stream",
     "text": [
      "Tanimoto for RDkit fingerprints\n",
      "0.3157894736842105\n",
      "Tanimoto for Morgan fingerprints\n",
      "0.2727272727272727\n"
     ]
    }
   ],
   "source": [
    "from rdkit.Chem import AllChem\n",
    "from rdkit import DataStructs\n",
    "\n",
    "#fingerprint generator for rdkit type fingerprints\n",
    "fpgen = AllChem.GetRDKitFPGenerator()\n",
    "fpgen_morgan = AllChem.GetMorganGenerator(radius=2) #note you can set the radius, 2 is the standard, see ECFP paper above to learn what this means\n",
    "\n",
    "#how to calculate some of the differen fingerprint types described above\n",
    "mol1_fp = fpgen.GetFingerprint(mol)\n",
    "mol1_fp_morgan = fpgen_morgan.GetFingerprint(mol)\n",
    "\n",
    "#let's do the same thing for a second molecule so we can calculate Tanimoto similarities, lets use benzene\n",
    "mol2 = Chem.MolFromSmiles(\"c1ccccc1\")\n",
    "mol2_fp = fpgen.GetFingerprint(mol2)\n",
    "mol2_fp_morgan = fpgen_morgan.GetFingerprint(mol2)\n",
    "\n",
    "#you can experiment with your own molecule pairs\n",
    "print(\"Tanimoto for RDkit fingerprints\")\n",
    "print(DataStructs.TanimotoSimilarity(mol1_fp, mol2_fp))\n",
    "print(\"Tanimoto for Morgan fingerprints\")\n",
    "print(DataStructs.TanimotoSimilarity(mol1_fp_morgan, mol2_fp_morgan))"
   ]
  }
 ],
 "metadata": {
  "kernelspec": {
   "display_name": "Python 3",
   "language": "python",
   "name": "python3"
  },
  "language_info": {
   "codemirror_mode": {
    "name": "ipython",
    "version": 3
   },
   "file_extension": ".py",
   "mimetype": "text/x-python",
   "name": "python",
   "nbconvert_exporter": "python",
   "pygments_lexer": "ipython3",
   "version": "3.8.3"
  }
 },
 "nbformat": 4,
 "nbformat_minor": 4
}
