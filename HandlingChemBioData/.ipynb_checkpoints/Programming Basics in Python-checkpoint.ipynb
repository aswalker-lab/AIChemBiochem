{
 "cells": [
  {
   "cell_type": "markdown",
   "metadata": {},
   "source": [
    "## Variables and simple mathematical operations\n",
    "In programming,variables store data of various types such as integers, floats (used to represent numbers that are not integers), strings (text), booleans (true/false values), and other objects which you can create that have custom properties or that you can import from modules others have created\n",
    "\n",
    "Python is dynamically typed, which means that you can change a variable's type, e.g. you could first create a variable as a number and then later make it text. However, this is generally considered bad practice since it could lead to errors where you expect a variable to be one type and it turns out to be another.\n",
    "\n",
    "When dealing with integers (called int in python) or floats, you can use basic math operations as shown below.\n",
    "\n",
    "You can use the print statement to see the value of a variable. Try running the code below."
   ]
  },
  {
   "cell_type": "code",
   "execution_count": 14,
   "metadata": {},
   "outputs": [
    {
     "name": "stdout",
     "output_type": "stream",
     "text": [
      "3\n",
      "1 + 2 = 3\n",
      "1 - 2 = -1\n",
      "2 * 3 = 6\n",
      "2 / 6 = 0.3333333333333333\n",
      "type of a: <class 'int'>\n",
      "type of c: <class 'float'>\n",
      "2^3 = 8\n",
      "for a non-divisible number\n",
      "9 MOD 4 = 1\n",
      "MOD by divisible number will return zero \n",
      "8 MOD 4 = 0\n"
     ]
    }
   ],
   "source": [
    "#any lines that start with a '#' character is a comment, these lines will not run and are meant to provide information about the code\n",
    "# it is good practice to add comments to your code so others can understand what it does\n",
    "\n",
    "#addition\n",
    "a = 1\n",
    "b = 2\n",
    "c = a + b\n",
    "\n",
    "#to see the value of a + b, we can print c\n",
    "print(c)\n",
    "#if you want to write this operation as text, you can write a statement where you convert the numbers to strings, using str()\n",
    "#if you try this statment without converting your numbers to strings first, you will get an error since an int and a string can't\n",
    "#be added together\n",
    "print(str(a) + \" + \" + str(b) + \" = \" + str(c))\n",
    "\n",
    "#subtraction, note how we can overwrite the value of c\n",
    "c = a-b\n",
    "print(str(a) + \" - \" + str(b) + \" = \" + str(c))\n",
    "\n",
    "#multiplication\n",
    "a = 2\n",
    "b = 3\n",
    "c = a*b\n",
    "print(str(a) + \" * \" + str(b) + \" = \" + str(c))\n",
    "\n",
    "#division\n",
    "a = 2\n",
    "b = 6\n",
    "c = a/b #c will automatically be a float since a/b does not result in an integer value\n",
    "print(str(a) + \" / \" + str(b) + \" = \" + str(c))\n",
    "#we can check the current types of our variables using type()\n",
    "print(\"type of a: \" + str(type(a)))\n",
    "print(\"type of c: \" + str(type(c)))\n",
    "\n",
    "#exponents\n",
    "a = 2\n",
    "b = 3\n",
    "c = a**b\n",
    "print(str(a) +\"^\" + str(b) + \" = \" + str(c))\n",
    "\n",
    "#mod - this returns the remainder from division, which can come in handy sometimes\n",
    "a = 9\n",
    "b = 4\n",
    "c = a%b\n",
    "print(\"for a non-divisible number\")\n",
    "print(str(a) + \" MOD \" + str(b) + \" = \" +str(c))\n",
    "print(\"MOD by divisible number will return zero \")\n",
    "a = 8\n",
    "c = a%b\n",
    "print(str(a) + \" MOD \" + str(b) + \" = \" +str(c))\n",
    "\n",
    "#if you would like to get more familiar with this you can edit some of the variables and see what happens!"
   ]
  },
  {
   "cell_type": "markdown",
   "metadata": {},
   "source": [
    "## Strings\n",
    "\n",
    "In this cell we will go over some useful operations you can do with strings"
   ]
  },
  {
   "cell_type": "code",
   "execution_count": null,
   "metadata": {},
   "outputs": [],
   "source": []
  },
  {
   "cell_type": "markdown",
   "metadata": {},
   "source": [
    "## Data structures: lists and dictionary\n",
    "Data structures are ways to organize data, many are commonly shared accross different programming languages\n",
    "In python two of the most useful datastructures are lists and dictionaries"
   ]
  },
  {
   "cell_type": "code",
   "execution_count": null,
   "metadata": {},
   "outputs": [],
   "source": []
  },
  {
   "cell_type": "markdown",
   "metadata": {},
   "source": [
    "## If statements"
   ]
  },
  {
   "cell_type": "code",
   "execution_count": null,
   "metadata": {},
   "outputs": [],
   "source": []
  },
  {
   "cell_type": "markdown",
   "metadata": {},
   "source": [
    "## Loops"
   ]
  },
  {
   "cell_type": "code",
   "execution_count": null,
   "metadata": {},
   "outputs": [],
   "source": []
  },
  {
   "cell_type": "markdown",
   "metadata": {},
   "source": [
    "## Modules\n",
    "You can import modules to perform more advanced operations\n",
    "Python comes with built-in modules\n",
    "Below we will look at some examples using the math and statistics modules\n",
    "There are also many modules you can install"
   ]
  },
  {
   "cell_type": "code",
   "execution_count": null,
   "metadata": {},
   "outputs": [],
   "source": [
    "#to import a module type import an then its name, if it is not a built in module you will have to install it to your environment\n",
    "#we will go over environments in a future lecture\n",
    "import math\n",
    "import statistics"
   ]
  }
 ],
 "metadata": {
  "kernelspec": {
   "display_name": "Python 3",
   "language": "python",
   "name": "python3"
  },
  "language_info": {
   "codemirror_mode": {
    "name": "ipython",
    "version": 3
   },
   "file_extension": ".py",
   "mimetype": "text/x-python",
   "name": "python",
   "nbconvert_exporter": "python",
   "pygments_lexer": "ipython3",
   "version": "3.8.3"
  }
 },
 "nbformat": 4,
 "nbformat_minor": 4
}
